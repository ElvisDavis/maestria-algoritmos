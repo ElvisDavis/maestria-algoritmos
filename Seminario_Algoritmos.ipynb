{
 "cells": [
  {
   "cell_type": "markdown",
   "metadata": {
    "id": "hVbXYX-RfPWh"
   },
   "source": [
    "# Algoritmos de optimización - Seminario<br>\n",
    "Nombre y Apellidos: Elvis David Pachacama Cabezas  <br>\n",
    "Url: https://github.com/ElvisDavis/maestria-algoritmos/blob/main/Seminario_Algoritmos.ipynb<br>\n",
    "Problema:\n",
    "> 1. Sesiones de doblaje <br>\n",
    ">2. Organizar los horarios de partidos de La Liga<br>\n",
    ">3. Combinar cifras y operaciones\n",
    "\n",
    "Descripción del problema: Se precisa coordinar el doblaje de una pelicula. Los actores del doblaje deben coincidir en la tomas en las que sus personajes aparecen juntos en las diferentes tomas. Los actores de doblaje cobran todos la misma cantidad por cada día que deben desplazarse hasta el estudio de grabación independientemente del número de tomas que se graben. No es posible grabar más de 6 tomas por día. El objetivo es planificar las sesiones por día de manera que el gasto por los servicios de los actores de doblaje sea el mejor posible. Los datos son:<br>\n",
    "**Número de actores: 10**<br>\n",
    "**Número de tomas: 30**<br>\n",
    "**Actores/Toma: https://bit.ly/36D8IuK**\n",
    "* 1 indica que actor participa en la toma\n",
    "* 0 en caso contrario\n",
    "\n",
    "\n",
    "(*) La respuesta es obligatoria\n",
    "\n",
    "\n",
    "\n",
    "\n",
    "\n",
    "                                        "
   ]
  },
  {
   "cell_type": "code",
   "execution_count": 1,
   "metadata": {
    "id": "AiskKkzZfy4e"
   },
   "outputs": [],
   "source": [
    "#Importamos la librerias necesarias para leer el csv\n",
    "import pandas as pd\n",
    "import numpy as np\n",
    "import random\n"
   ]
  },
  {
   "cell_type": "code",
   "execution_count": 2,
   "metadata": {},
   "outputs": [],
   "source": [
    "#leemos el archivo\n",
    "\n",
    "archivo = \"Datos_problema_doblaje.csv\"\n",
    "\n",
    "#Cargamos el archivo csv\n",
    "df= pd.read_csv(archivo)\n",
    "\n",
    "#Se establece la primera fila como encabezado real\n",
    "df.columns = df.iloc[0]\n",
    "df = df.drop(index=0).reset_index(drop=True)\n",
    "\n",
    "# Renombramos la primera comñlumna como Toma\n",
    "\n",
    "df = df.rename(columns={df.columns[0]: \"Toma\"})\n",
    "# Eliminamos columnas no necesarias\n",
    "df = df.drop(columns=[col for col in df.columns if pd.isna(col) or col =='Total'])\n",
    "#Eliminamos fila resumen\n",
    "df = df[~df[\"Toma\"].isin([\"TOTAL\"])]\n",
    "\n",
    "#Eliminamos filas Nan en toma\n",
    "df = df.dropna(subset=[\"Toma\"])\n",
    "#Convertir a entero\n",
    "df[\"Toma\"] = df[\"Toma\"].astype(int)\n",
    "# Tomas ordenadas\n",
    "tomas_ordenadas = sorted(df[\"Toma\"].tolist())\n",
    "df.iloc[:,1:]= df.iloc[:,1:].apply(pd.to_numeric)\n",
    "\n",
    "#Preparamos la lista (toma,[actores])\n",
    "tomas_actores=[]\n",
    "for _, row in df.iterrows():\n",
    "    actores_en_toma = []\n",
    "    for actor, valor in row.iloc[1:].items():\n",
    "        if valor == 1.0:\n",
    "            #convertir el nombre del actor en entero\n",
    "            actores_en_toma.append(int(float(actor)))\n",
    "    tomas_actores.append((row[\"Toma\"], actores_en_toma))"
   ]
  },
  {
   "cell_type": "markdown",
   "metadata": {
    "id": "3_-exlrTgLd-"
   },
   "source": [
    "(*)¿Cuantas posibilidades hay sin tener en cuenta las restricciones?<br>\n",
    "\n",
    "\n",
    "\n",
    "¿Cuantas posibilidades hay teniendo en cuenta todas las restricciones.\n",
    "\n",
    "\n"
   ]
  },
  {
   "cell_type": "code",
   "execution_count": 3,
   "metadata": {},
   "outputs": [
    {
     "data": {
      "text/html": [
       "<div>\n",
       "<style scoped>\n",
       "    .dataframe tbody tr th:only-of-type {\n",
       "        vertical-align: middle;\n",
       "    }\n",
       "\n",
       "    .dataframe tbody tr th {\n",
       "        vertical-align: top;\n",
       "    }\n",
       "\n",
       "    .dataframe thead th {\n",
       "        text-align: right;\n",
       "    }\n",
       "</style>\n",
       "<table border=\"1\" class=\"dataframe\">\n",
       "  <thead>\n",
       "    <tr style=\"text-align: right;\">\n",
       "      <th></th>\n",
       "      <th>Toma</th>\n",
       "      <th>1.0</th>\n",
       "      <th>2.0</th>\n",
       "      <th>3.0</th>\n",
       "      <th>4.0</th>\n",
       "      <th>5.0</th>\n",
       "      <th>6.0</th>\n",
       "      <th>7.0</th>\n",
       "      <th>8.0</th>\n",
       "      <th>9.0</th>\n",
       "      <th>10.0</th>\n",
       "    </tr>\n",
       "  </thead>\n",
       "  <tbody>\n",
       "    <tr>\n",
       "      <th>0</th>\n",
       "      <td>1</td>\n",
       "      <td>1.0</td>\n",
       "      <td>1.0</td>\n",
       "      <td>1.0</td>\n",
       "      <td>1.0</td>\n",
       "      <td>1.0</td>\n",
       "      <td>0.0</td>\n",
       "      <td>0.0</td>\n",
       "      <td>0.0</td>\n",
       "      <td>0.0</td>\n",
       "      <td>0.0</td>\n",
       "    </tr>\n",
       "    <tr>\n",
       "      <th>1</th>\n",
       "      <td>2</td>\n",
       "      <td>0.0</td>\n",
       "      <td>0.0</td>\n",
       "      <td>1.0</td>\n",
       "      <td>1.0</td>\n",
       "      <td>1.0</td>\n",
       "      <td>0.0</td>\n",
       "      <td>0.0</td>\n",
       "      <td>0.0</td>\n",
       "      <td>0.0</td>\n",
       "      <td>0.0</td>\n",
       "    </tr>\n",
       "    <tr>\n",
       "      <th>2</th>\n",
       "      <td>3</td>\n",
       "      <td>0.0</td>\n",
       "      <td>1.0</td>\n",
       "      <td>0.0</td>\n",
       "      <td>0.0</td>\n",
       "      <td>1.0</td>\n",
       "      <td>0.0</td>\n",
       "      <td>1.0</td>\n",
       "      <td>0.0</td>\n",
       "      <td>0.0</td>\n",
       "      <td>0.0</td>\n",
       "    </tr>\n",
       "    <tr>\n",
       "      <th>3</th>\n",
       "      <td>4</td>\n",
       "      <td>1.0</td>\n",
       "      <td>1.0</td>\n",
       "      <td>0.0</td>\n",
       "      <td>0.0</td>\n",
       "      <td>0.0</td>\n",
       "      <td>0.0</td>\n",
       "      <td>1.0</td>\n",
       "      <td>1.0</td>\n",
       "      <td>0.0</td>\n",
       "      <td>0.0</td>\n",
       "    </tr>\n",
       "    <tr>\n",
       "      <th>4</th>\n",
       "      <td>5</td>\n",
       "      <td>0.0</td>\n",
       "      <td>1.0</td>\n",
       "      <td>0.0</td>\n",
       "      <td>1.0</td>\n",
       "      <td>0.0</td>\n",
       "      <td>0.0</td>\n",
       "      <td>0.0</td>\n",
       "      <td>1.0</td>\n",
       "      <td>0.0</td>\n",
       "      <td>0.0</td>\n",
       "    </tr>\n",
       "    <tr>\n",
       "      <th>5</th>\n",
       "      <td>6</td>\n",
       "      <td>1.0</td>\n",
       "      <td>1.0</td>\n",
       "      <td>0.0</td>\n",
       "      <td>1.0</td>\n",
       "      <td>1.0</td>\n",
       "      <td>0.0</td>\n",
       "      <td>0.0</td>\n",
       "      <td>0.0</td>\n",
       "      <td>0.0</td>\n",
       "      <td>0.0</td>\n",
       "    </tr>\n",
       "    <tr>\n",
       "      <th>6</th>\n",
       "      <td>7</td>\n",
       "      <td>1.0</td>\n",
       "      <td>1.0</td>\n",
       "      <td>0.0</td>\n",
       "      <td>1.0</td>\n",
       "      <td>1.0</td>\n",
       "      <td>0.0</td>\n",
       "      <td>0.0</td>\n",
       "      <td>0.0</td>\n",
       "      <td>0.0</td>\n",
       "      <td>0.0</td>\n",
       "    </tr>\n",
       "    <tr>\n",
       "      <th>7</th>\n",
       "      <td>8</td>\n",
       "      <td>1.0</td>\n",
       "      <td>1.0</td>\n",
       "      <td>0.0</td>\n",
       "      <td>0.0</td>\n",
       "      <td>0.0</td>\n",
       "      <td>1.0</td>\n",
       "      <td>0.0</td>\n",
       "      <td>0.0</td>\n",
       "      <td>0.0</td>\n",
       "      <td>0.0</td>\n",
       "    </tr>\n",
       "    <tr>\n",
       "      <th>8</th>\n",
       "      <td>9</td>\n",
       "      <td>1.0</td>\n",
       "      <td>1.0</td>\n",
       "      <td>0.0</td>\n",
       "      <td>1.0</td>\n",
       "      <td>0.0</td>\n",
       "      <td>0.0</td>\n",
       "      <td>0.0</td>\n",
       "      <td>0.0</td>\n",
       "      <td>0.0</td>\n",
       "      <td>0.0</td>\n",
       "    </tr>\n",
       "    <tr>\n",
       "      <th>9</th>\n",
       "      <td>10</td>\n",
       "      <td>1.0</td>\n",
       "      <td>1.0</td>\n",
       "      <td>0.0</td>\n",
       "      <td>0.0</td>\n",
       "      <td>0.0</td>\n",
       "      <td>1.0</td>\n",
       "      <td>0.0</td>\n",
       "      <td>0.0</td>\n",
       "      <td>1.0</td>\n",
       "      <td>0.0</td>\n",
       "    </tr>\n",
       "    <tr>\n",
       "      <th>10</th>\n",
       "      <td>11</td>\n",
       "      <td>1.0</td>\n",
       "      <td>1.0</td>\n",
       "      <td>1.0</td>\n",
       "      <td>0.0</td>\n",
       "      <td>1.0</td>\n",
       "      <td>0.0</td>\n",
       "      <td>0.0</td>\n",
       "      <td>1.0</td>\n",
       "      <td>0.0</td>\n",
       "      <td>0.0</td>\n",
       "    </tr>\n",
       "    <tr>\n",
       "      <th>11</th>\n",
       "      <td>12</td>\n",
       "      <td>1.0</td>\n",
       "      <td>1.0</td>\n",
       "      <td>1.0</td>\n",
       "      <td>1.0</td>\n",
       "      <td>0.0</td>\n",
       "      <td>1.0</td>\n",
       "      <td>0.0</td>\n",
       "      <td>0.0</td>\n",
       "      <td>0.0</td>\n",
       "      <td>0.0</td>\n",
       "    </tr>\n",
       "    <tr>\n",
       "      <th>12</th>\n",
       "      <td>13</td>\n",
       "      <td>1.0</td>\n",
       "      <td>0.0</td>\n",
       "      <td>0.0</td>\n",
       "      <td>1.0</td>\n",
       "      <td>1.0</td>\n",
       "      <td>0.0</td>\n",
       "      <td>0.0</td>\n",
       "      <td>0.0</td>\n",
       "      <td>0.0</td>\n",
       "      <td>0.0</td>\n",
       "    </tr>\n",
       "    <tr>\n",
       "      <th>13</th>\n",
       "      <td>14</td>\n",
       "      <td>1.0</td>\n",
       "      <td>0.0</td>\n",
       "      <td>1.0</td>\n",
       "      <td>0.0</td>\n",
       "      <td>0.0</td>\n",
       "      <td>1.0</td>\n",
       "      <td>0.0</td>\n",
       "      <td>0.0</td>\n",
       "      <td>0.0</td>\n",
       "      <td>0.0</td>\n",
       "    </tr>\n",
       "    <tr>\n",
       "      <th>14</th>\n",
       "      <td>15</td>\n",
       "      <td>1.0</td>\n",
       "      <td>1.0</td>\n",
       "      <td>0.0</td>\n",
       "      <td>0.0</td>\n",
       "      <td>0.0</td>\n",
       "      <td>0.0</td>\n",
       "      <td>1.0</td>\n",
       "      <td>0.0</td>\n",
       "      <td>0.0</td>\n",
       "      <td>0.0</td>\n",
       "    </tr>\n",
       "    <tr>\n",
       "      <th>15</th>\n",
       "      <td>16</td>\n",
       "      <td>0.0</td>\n",
       "      <td>0.0</td>\n",
       "      <td>0.0</td>\n",
       "      <td>1.0</td>\n",
       "      <td>0.0</td>\n",
       "      <td>0.0</td>\n",
       "      <td>0.0</td>\n",
       "      <td>0.0</td>\n",
       "      <td>0.0</td>\n",
       "      <td>1.0</td>\n",
       "    </tr>\n",
       "    <tr>\n",
       "      <th>16</th>\n",
       "      <td>17</td>\n",
       "      <td>1.0</td>\n",
       "      <td>0.0</td>\n",
       "      <td>1.0</td>\n",
       "      <td>0.0</td>\n",
       "      <td>0.0</td>\n",
       "      <td>0.0</td>\n",
       "      <td>0.0</td>\n",
       "      <td>0.0</td>\n",
       "      <td>0.0</td>\n",
       "      <td>0.0</td>\n",
       "    </tr>\n",
       "    <tr>\n",
       "      <th>17</th>\n",
       "      <td>18</td>\n",
       "      <td>0.0</td>\n",
       "      <td>0.0</td>\n",
       "      <td>1.0</td>\n",
       "      <td>0.0</td>\n",
       "      <td>0.0</td>\n",
       "      <td>1.0</td>\n",
       "      <td>0.0</td>\n",
       "      <td>0.0</td>\n",
       "      <td>0.0</td>\n",
       "      <td>0.0</td>\n",
       "    </tr>\n",
       "    <tr>\n",
       "      <th>18</th>\n",
       "      <td>19</td>\n",
       "      <td>1.0</td>\n",
       "      <td>0.0</td>\n",
       "      <td>1.0</td>\n",
       "      <td>0.0</td>\n",
       "      <td>0.0</td>\n",
       "      <td>0.0</td>\n",
       "      <td>0.0</td>\n",
       "      <td>0.0</td>\n",
       "      <td>0.0</td>\n",
       "      <td>0.0</td>\n",
       "    </tr>\n",
       "    <tr>\n",
       "      <th>19</th>\n",
       "      <td>20</td>\n",
       "      <td>1.0</td>\n",
       "      <td>0.0</td>\n",
       "      <td>1.0</td>\n",
       "      <td>1.0</td>\n",
       "      <td>1.0</td>\n",
       "      <td>0.0</td>\n",
       "      <td>0.0</td>\n",
       "      <td>0.0</td>\n",
       "      <td>0.0</td>\n",
       "      <td>0.0</td>\n",
       "    </tr>\n",
       "    <tr>\n",
       "      <th>20</th>\n",
       "      <td>21</td>\n",
       "      <td>0.0</td>\n",
       "      <td>0.0</td>\n",
       "      <td>0.0</td>\n",
       "      <td>0.0</td>\n",
       "      <td>0.0</td>\n",
       "      <td>1.0</td>\n",
       "      <td>0.0</td>\n",
       "      <td>1.0</td>\n",
       "      <td>0.0</td>\n",
       "      <td>0.0</td>\n",
       "    </tr>\n",
       "    <tr>\n",
       "      <th>21</th>\n",
       "      <td>22</td>\n",
       "      <td>1.0</td>\n",
       "      <td>1.0</td>\n",
       "      <td>1.0</td>\n",
       "      <td>1.0</td>\n",
       "      <td>0.0</td>\n",
       "      <td>0.0</td>\n",
       "      <td>0.0</td>\n",
       "      <td>0.0</td>\n",
       "      <td>0.0</td>\n",
       "      <td>0.0</td>\n",
       "    </tr>\n",
       "    <tr>\n",
       "      <th>22</th>\n",
       "      <td>23</td>\n",
       "      <td>1.0</td>\n",
       "      <td>0.0</td>\n",
       "      <td>1.0</td>\n",
       "      <td>0.0</td>\n",
       "      <td>0.0</td>\n",
       "      <td>0.0</td>\n",
       "      <td>0.0</td>\n",
       "      <td>0.0</td>\n",
       "      <td>0.0</td>\n",
       "      <td>0.0</td>\n",
       "    </tr>\n",
       "    <tr>\n",
       "      <th>23</th>\n",
       "      <td>24</td>\n",
       "      <td>0.0</td>\n",
       "      <td>0.0</td>\n",
       "      <td>1.0</td>\n",
       "      <td>0.0</td>\n",
       "      <td>0.0</td>\n",
       "      <td>1.0</td>\n",
       "      <td>0.0</td>\n",
       "      <td>0.0</td>\n",
       "      <td>0.0</td>\n",
       "      <td>0.0</td>\n",
       "    </tr>\n",
       "    <tr>\n",
       "      <th>24</th>\n",
       "      <td>25</td>\n",
       "      <td>1.0</td>\n",
       "      <td>1.0</td>\n",
       "      <td>0.0</td>\n",
       "      <td>1.0</td>\n",
       "      <td>0.0</td>\n",
       "      <td>0.0</td>\n",
       "      <td>0.0</td>\n",
       "      <td>0.0</td>\n",
       "      <td>0.0</td>\n",
       "      <td>1.0</td>\n",
       "    </tr>\n",
       "    <tr>\n",
       "      <th>25</th>\n",
       "      <td>26</td>\n",
       "      <td>1.0</td>\n",
       "      <td>0.0</td>\n",
       "      <td>1.0</td>\n",
       "      <td>0.0</td>\n",
       "      <td>1.0</td>\n",
       "      <td>0.0</td>\n",
       "      <td>0.0</td>\n",
       "      <td>0.0</td>\n",
       "      <td>1.0</td>\n",
       "      <td>0.0</td>\n",
       "    </tr>\n",
       "    <tr>\n",
       "      <th>26</th>\n",
       "      <td>27</td>\n",
       "      <td>0.0</td>\n",
       "      <td>0.0</td>\n",
       "      <td>0.0</td>\n",
       "      <td>1.0</td>\n",
       "      <td>1.0</td>\n",
       "      <td>0.0</td>\n",
       "      <td>0.0</td>\n",
       "      <td>0.0</td>\n",
       "      <td>0.0</td>\n",
       "      <td>0.0</td>\n",
       "    </tr>\n",
       "    <tr>\n",
       "      <th>27</th>\n",
       "      <td>28</td>\n",
       "      <td>1.0</td>\n",
       "      <td>0.0</td>\n",
       "      <td>0.0</td>\n",
       "      <td>1.0</td>\n",
       "      <td>0.0</td>\n",
       "      <td>0.0</td>\n",
       "      <td>0.0</td>\n",
       "      <td>0.0</td>\n",
       "      <td>0.0</td>\n",
       "      <td>0.0</td>\n",
       "    </tr>\n",
       "    <tr>\n",
       "      <th>28</th>\n",
       "      <td>29</td>\n",
       "      <td>1.0</td>\n",
       "      <td>0.0</td>\n",
       "      <td>0.0</td>\n",
       "      <td>0.0</td>\n",
       "      <td>1.0</td>\n",
       "      <td>1.0</td>\n",
       "      <td>0.0</td>\n",
       "      <td>0.0</td>\n",
       "      <td>0.0</td>\n",
       "      <td>0.0</td>\n",
       "    </tr>\n",
       "    <tr>\n",
       "      <th>29</th>\n",
       "      <td>30</td>\n",
       "      <td>1.0</td>\n",
       "      <td>0.0</td>\n",
       "      <td>0.0</td>\n",
       "      <td>1.0</td>\n",
       "      <td>0.0</td>\n",
       "      <td>0.0</td>\n",
       "      <td>0.0</td>\n",
       "      <td>0.0</td>\n",
       "      <td>0.0</td>\n",
       "      <td>0.0</td>\n",
       "    </tr>\n",
       "  </tbody>\n",
       "</table>\n",
       "</div>"
      ],
      "text/plain": [
       "0   Toma  1.0  2.0  3.0  4.0  5.0  6.0  7.0  8.0  9.0  10.0\n",
       "0      1  1.0  1.0  1.0  1.0  1.0  0.0  0.0  0.0  0.0   0.0\n",
       "1      2  0.0  0.0  1.0  1.0  1.0  0.0  0.0  0.0  0.0   0.0\n",
       "2      3  0.0  1.0  0.0  0.0  1.0  0.0  1.0  0.0  0.0   0.0\n",
       "3      4  1.0  1.0  0.0  0.0  0.0  0.0  1.0  1.0  0.0   0.0\n",
       "4      5  0.0  1.0  0.0  1.0  0.0  0.0  0.0  1.0  0.0   0.0\n",
       "5      6  1.0  1.0  0.0  1.0  1.0  0.0  0.0  0.0  0.0   0.0\n",
       "6      7  1.0  1.0  0.0  1.0  1.0  0.0  0.0  0.0  0.0   0.0\n",
       "7      8  1.0  1.0  0.0  0.0  0.0  1.0  0.0  0.0  0.0   0.0\n",
       "8      9  1.0  1.0  0.0  1.0  0.0  0.0  0.0  0.0  0.0   0.0\n",
       "9     10  1.0  1.0  0.0  0.0  0.0  1.0  0.0  0.0  1.0   0.0\n",
       "10    11  1.0  1.0  1.0  0.0  1.0  0.0  0.0  1.0  0.0   0.0\n",
       "11    12  1.0  1.0  1.0  1.0  0.0  1.0  0.0  0.0  0.0   0.0\n",
       "12    13  1.0  0.0  0.0  1.0  1.0  0.0  0.0  0.0  0.0   0.0\n",
       "13    14  1.0  0.0  1.0  0.0  0.0  1.0  0.0  0.0  0.0   0.0\n",
       "14    15  1.0  1.0  0.0  0.0  0.0  0.0  1.0  0.0  0.0   0.0\n",
       "15    16  0.0  0.0  0.0  1.0  0.0  0.0  0.0  0.0  0.0   1.0\n",
       "16    17  1.0  0.0  1.0  0.0  0.0  0.0  0.0  0.0  0.0   0.0\n",
       "17    18  0.0  0.0  1.0  0.0  0.0  1.0  0.0  0.0  0.0   0.0\n",
       "18    19  1.0  0.0  1.0  0.0  0.0  0.0  0.0  0.0  0.0   0.0\n",
       "19    20  1.0  0.0  1.0  1.0  1.0  0.0  0.0  0.0  0.0   0.0\n",
       "20    21  0.0  0.0  0.0  0.0  0.0  1.0  0.0  1.0  0.0   0.0\n",
       "21    22  1.0  1.0  1.0  1.0  0.0  0.0  0.0  0.0  0.0   0.0\n",
       "22    23  1.0  0.0  1.0  0.0  0.0  0.0  0.0  0.0  0.0   0.0\n",
       "23    24  0.0  0.0  1.0  0.0  0.0  1.0  0.0  0.0  0.0   0.0\n",
       "24    25  1.0  1.0  0.0  1.0  0.0  0.0  0.0  0.0  0.0   1.0\n",
       "25    26  1.0  0.0  1.0  0.0  1.0  0.0  0.0  0.0  1.0   0.0\n",
       "26    27  0.0  0.0  0.0  1.0  1.0  0.0  0.0  0.0  0.0   0.0\n",
       "27    28  1.0  0.0  0.0  1.0  0.0  0.0  0.0  0.0  0.0   0.0\n",
       "28    29  1.0  0.0  0.0  0.0  1.0  1.0  0.0  0.0  0.0   0.0\n",
       "29    30  1.0  0.0  0.0  1.0  0.0  0.0  0.0  0.0  0.0   0.0"
      ]
     },
     "execution_count": 3,
     "metadata": {},
     "output_type": "execute_result"
    }
   ],
   "source": [
    "df"
   ]
  },
  {
   "cell_type": "code",
   "execution_count": 4,
   "metadata": {},
   "outputs": [],
   "source": [
    "sessions =np.array(df)"
   ]
  },
  {
   "cell_type": "markdown",
   "metadata": {
    "id": "WfCUqJyKhPcw"
   },
   "source": [
    "Respuesta"
   ]
  },
  {
   "cell_type": "code",
   "execution_count": 5,
   "metadata": {
    "id": "iq6Fe32MgpDX"
   },
   "outputs": [],
   "source": [
    "def scenes_organization_gh(sessions, skip_scenes):\n",
    "    '''Inicializa:\n",
    "    Crea una lista de todos las escenas no asignadas\n",
    "    Crea una lista vacia para cada day para asignar la scenes.\n",
    "    '''\n",
    "    num_scenes = sessions.shape[0]\n",
    "    unassigned = set(range(num_scenes))\n",
    "    days = []\n",
    "    ''' Mientras las escenas no esten asignadas:\n",
    "    Seleccionamos una escena que no este asignada cmo la semilla para un nuevo día\n",
    "    Para este, día intenta agregar hasta 5 escenas no asignadas adicionales que tengan la\n",
    "    mayor coincidencia de actores con el grupo actual (es decir, que al agregarlas aumenten\n",
    "    lo menos posible el conjunto de actores únicos. Asigna estas escenas al día actual y elimpinalas de\n",
    "    la lista de escenas no asignadas'''\n",
    "    \n",
    "    while unassigned:\n",
    "        #obtnemos una escena cualquiera de la lista no asignada\n",
    "        seed_scene = random.choice(list(unassigned))\n",
    "        day_scenes= [seed_scene]\n",
    "        unassigned.remove(seed_scene)\n",
    "\n",
    "        #Obtenmos el set de actores presentes en la primera escena\n",
    "        actors_in_day= set(np.where(sessions[day_scenes[0]]==1)[0])\n",
    "\n",
    "        #Tratamos de añadir más de 5 escenas para este día\n",
    "        for _ in range(5):\n",
    "            best_scene = None\n",
    "            best_increase = None\n",
    "            #Iteramos sobre las escenas no asignadas\n",
    "            for scene in unassigned:\n",
    "                #Caculamos el aumento en el número de actores únicos si se añade a esta escena\n",
    "                #actors_in_day es el conjunto de datos de actores ya asignados a este día.\n",
    "                #actors_in_scene es el conjunto de datos de actores en la escena que se está analizando actualmente\n",
    "                actors_in_scene= set(np.where(sessions[scene] == 1)[0])\n",
    "                #esto fue pensado para omitir escenas que solo tuvieran actores no presentes actualmente,\n",
    "                #pero termino generando peores resultados\n",
    "                \n",
    "                if skip_scenes and actors_in_scene.difference(actors_in_day) == set():\n",
    "                    continue #Saltamos si no se repiten actores nuevos\n",
    "                increase = len(actors_in_day | actors_in_scene) - len(actors_in_day)\n",
    "                if best_scene is None or increase < best_increase:\n",
    "                    best_scene = scene\n",
    "                    best_increase = increase\n",
    "            if best_scene is not None:\n",
    "                day_scenes.append(best_scene)\n",
    "                actors_in_day |= set(np.where(sessions[best_scene] == 1)[0])#actualiza el cojunto de datos\n",
    "                unassigned.remove(best_scene)\n",
    "            else:\n",
    "                break\n",
    "        days.append(day_scenes)\n",
    "    return days\n",
    "\n"
   ]
  },
  {
   "cell_type": "code",
   "execution_count": 6,
   "metadata": {},
   "outputs": [],
   "source": [
    "def calc_cost(days, sessions):\n",
    "    #Para cada día, contamos los actores únicos presentes ( es decir, cualquier actor que tenga un valor de 1 en alguna escena asignada ese día)\n",
    "    #Sumamos estos conteos a lo largo de todos los días para obtner el total de actores\n",
    "    # Calculamos el total de actor-dias\n",
    "    total_actor_days = 0\n",
    "    day = 0\n",
    "    for day_scenes in days:\n",
    "        actors = set()\n",
    "        for scene in day_scenes:\n",
    "            actors |= set(np.where(sessions[scene] == 1)[0])\n",
    "        total_actor_days += len(actors)\n",
    "        day +=1\n",
    "    return total_actor_days\n",
    "\n",
    "\n",
    "    "
   ]
  },
  {
   "cell_type": "code",
   "execution_count": 7,
   "metadata": {},
   "outputs": [
    {
     "name": "stdout",
     "output_type": "stream",
     "text": [
      "Forzando a las 6 escenas por día\n",
      "Scenes of days 1:[23, 17, 13, 16, 18, 22]\n",
      "Scenes of days 2:[5, 6, 8, 12, 26, 27]\n",
      "Scenes of days 3:[10, 1, 4, 19, 21, 29]\n",
      "Scenes of days 4:[2, 14, 3, 7, 20, 28]\n",
      "Scenes of days 5:[11, 9, 15, 24, 25, 0]\n",
      "Total times I have to pay if these scenes are scheduled (greedy): 28\n",
      "Without forcing 6 scenes per day:\n",
      "Scenes od day 1:[22, 13, 7, 8, 1, 0]\n",
      "Scenes od day 2:[19, 5, 2, 3, 11, 9]\n",
      "Scenes od day 3:[14, 16, 17, 20, 4, 6]\n",
      "Scenes od day 4:[12, 15, 18, 21, 10, 23]\n",
      "Scenes od day 5:[28, 26, 24, 25]\n",
      "Scenes od day 6:[29]\n",
      "Scenes od day 7:[27]\n",
      "Total times I have to pay if these scenes are scheduled (greedy): 44\n"
     ]
    }
   ],
   "source": [
    "total_actor_days = 99999\n",
    "days=[]\n",
    "\n",
    "print(\"Forzando a las 6 escenas por día\")\n",
    "for t in range(100):# Una pequeña mejora: buscamos la mejor opción en X intentos, en este caso 100 porque fue el número que me dio 27 la mayoria de veces\n",
    "    days_n = scenes_organization_gh(sessions, False)\n",
    "    total_actor_days_n= calc_cost(days_n, sessions)\n",
    "    if total_actor_days_n < total_actor_days:\n",
    "        total_actor_days = total_actor_days_n\n",
    "        days = days_n\n",
    "day = 1\n",
    "for day_scenes in days:\n",
    "    print(f'Scenes of days {day}:{day_scenes}')\n",
    "    day += 1\n",
    "print(\"Total times I have to pay if these scenes are scheduled (greedy):\", total_actor_days)\n",
    "\n",
    "total_actor_days = 99999\n",
    "days = []\n",
    "\n",
    "print(\"Without forcing 6 scenes per day:\")\n",
    "for t in range (1):\n",
    "    days_n = scenes_organization_gh(sessions, True)\n",
    "    total_actor_days_n = calc_cost(days_n, sessions)\n",
    "    if total_actor_days_n < total_actor_days:\n",
    "        total_actor_days = total_actor_days_n\n",
    "        days = days_n\n",
    "day = 1\n",
    "for day_scenes in days:\n",
    "    print(f'Scenes od day {day}:{day_scenes}')\n",
    "    day += 1\n",
    "print(\"Total times I have to pay if these scenes are scheduled (greedy):\", total_actor_days)"
   ]
  },
  {
   "cell_type": "markdown",
   "metadata": {
    "id": "dzynfVJahHoY"
   },
   "source": [
    "Modelo para el espacio de soluciones<br>\n",
    "(*) ¿Cual es la estructura de datos que mejor se adapta al problema? Argumentalo.(Es posible que hayas elegido una al principio y veas la necesidad de cambiar, arguentalo)\n"
   ]
  },
  {
   "cell_type": "markdown",
   "metadata": {
    "id": "xFIJrOwKi2Ti"
   },
   "source": [
    "Respuesta"
   ]
  },
  {
   "cell_type": "code",
   "execution_count": null,
   "metadata": {
    "id": "38c-7-ejhJmA"
   },
   "outputs": [],
   "source": []
  },
  {
   "cell_type": "markdown",
   "metadata": {
    "id": "7Z9U2W7bi-XS"
   },
   "source": [
    "Según el modelo para el espacio de soluciones<br>\n",
    "(*)¿Cual es la función objetivo?\n",
    "\n",
    "(*)¿Es un problema de maximización o minimización?"
   ]
  },
  {
   "cell_type": "markdown",
   "metadata": {
    "id": "hBalWLM7j1_d"
   },
   "source": [
    "Respuesta"
   ]
  },
  {
   "cell_type": "code",
   "execution_count": null,
   "metadata": {
    "id": "pDA-rg3Gj5Lz"
   },
   "outputs": [],
   "source": []
  },
  {
   "cell_type": "markdown",
   "metadata": {
    "id": "rlnTYgY1j6I2"
   },
   "source": [
    "Diseña un algoritmo para resolver el problema por fuerza bruta"
   ]
  },
  {
   "cell_type": "markdown",
   "metadata": {
    "id": "70rDgxYXkC8r"
   },
   "source": [
    "Respuesta"
   ]
  },
  {
   "cell_type": "code",
   "execution_count": null,
   "metadata": {
    "id": "CJb5sQ0qkENy"
   },
   "outputs": [],
   "source": []
  },
  {
   "cell_type": "markdown",
   "metadata": {
    "id": "tgrnsC2nkFa8"
   },
   "source": [
    "Calcula la complejidad del algoritmo por fuerza bruta"
   ]
  },
  {
   "cell_type": "markdown",
   "metadata": {
    "id": "9eUd3xwckP68"
   },
   "source": [
    "Respuesta"
   ]
  },
  {
   "cell_type": "code",
   "execution_count": null,
   "metadata": {
    "id": "rvZWwL-ckRST"
   },
   "outputs": [],
   "source": []
  },
  {
   "cell_type": "markdown",
   "metadata": {
    "id": "txbrmLmskReM"
   },
   "source": [
    "(*)Diseña un algoritmo que mejore la complejidad del algortimo por fuerza bruta. Argumenta porque crees que mejora el algoritmo por fuerza bruta"
   ]
  },
  {
   "cell_type": "markdown",
   "metadata": {
    "id": "hLrVwt5QkZPD"
   },
   "source": [
    "Respuesta"
   ]
  },
  {
   "cell_type": "code",
   "execution_count": null,
   "metadata": {
    "id": "m1eyM21Vkabg"
   },
   "outputs": [],
   "source": []
  },
  {
   "cell_type": "markdown",
   "metadata": {
    "id": "eGDB4K6uk1iN"
   },
   "source": [
    "(*)Calcula la complejidad del algoritmo"
   ]
  },
  {
   "cell_type": "markdown",
   "metadata": {
    "id": "NhpTh_BPk1ms"
   },
   "source": [
    "Respuesta"
   ]
  },
  {
   "cell_type": "code",
   "execution_count": null,
   "metadata": {
    "id": "nREzhkStlCq8"
   },
   "outputs": [],
   "source": []
  },
  {
   "cell_type": "markdown",
   "metadata": {
    "id": "3M6QjTsSkmYe"
   },
   "source": [
    "Según el problema (y tenga sentido), diseña un juego de datos de entrada aleatorios"
   ]
  },
  {
   "cell_type": "markdown",
   "metadata": {
    "id": "Jc3_OlyNkvjZ"
   },
   "source": [
    "Respuesta"
   ]
  },
  {
   "cell_type": "code",
   "execution_count": null,
   "metadata": {
    "id": "sJ-N2etjkyWc"
   },
   "outputs": [],
   "source": []
  },
  {
   "cell_type": "markdown",
   "metadata": {
    "id": "zy5ZROmjlGo1"
   },
   "source": [
    "Aplica el algoritmo al juego de datos generado"
   ]
  },
  {
   "cell_type": "markdown",
   "metadata": {
    "id": "_Cmj-PVylMsa"
   },
   "source": [
    "Respuesta"
   ]
  },
  {
   "cell_type": "code",
   "execution_count": null,
   "metadata": {
    "id": "Jkx8GeiYlUz1"
   },
   "outputs": [],
   "source": []
  },
  {
   "cell_type": "markdown",
   "metadata": {
    "id": "eTFWUJQrtGcv"
   },
   "source": [
    "Enumera las referencias que has utilizado(si ha sido necesario) para llevar a cabo el trabajo"
   ]
  },
  {
   "cell_type": "markdown",
   "metadata": {
    "id": "YKQ_mRBttWsP"
   },
   "source": [
    "Respuesta"
   ]
  },
  {
   "cell_type": "markdown",
   "metadata": {
    "id": "kAkDPUyRtYyH"
   },
   "source": [
    "Describe brevemente las lineas de como crees que es posible avanzar en el estudio del problema. Ten en cuenta incluso posibles variaciones del problema y/o variaciones al alza del tamaño"
   ]
  },
  {
   "cell_type": "markdown",
   "metadata": {
    "id": "IE0uZmo-tZu-"
   },
   "source": [
    "Respuesta"
   ]
  }
 ],
 "metadata": {
  "colab": {
   "provenance": []
  },
  "kernelspec": {
   "display_name": "Python 3 (ipykernel)",
   "language": "python",
   "name": "python3"
  },
  "language_info": {
   "codemirror_mode": {
    "name": "ipython",
    "version": 3
   },
   "file_extension": ".py",
   "mimetype": "text/x-python",
   "name": "python",
   "nbconvert_exporter": "python",
   "pygments_lexer": "ipython3",
   "version": "3.11.13"
  }
 },
 "nbformat": 4,
 "nbformat_minor": 4
}
