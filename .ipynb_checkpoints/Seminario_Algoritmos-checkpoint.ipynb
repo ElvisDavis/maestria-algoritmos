{
 "cells": [
  {
   "cell_type": "markdown",
   "metadata": {
    "id": "hVbXYX-RfPWh"
   },
   "source": [
    "# Algoritmos de optimización - Seminario<br>\n",
    "Nombre y Apellidos: Elvis David Pachacama Cabezas  <br>\n",
    "Url: https://github.com/ElvisDavis/maestria-algoritmos/blob/main/Seminario_Algoritmos.ipynb<br>\n",
    "Problema:\n",
    "> 1. Sesiones de doblaje <br>\n",
    ">2. Organizar los horarios de partidos de La Liga<br>\n",
    ">3. Combinar cifras y operaciones\n",
    "\n",
    "Descripción del problema: Se precisa coordinar el doblaje de una pelicula. Los actores del doblaje deben coincidir en la tomas en las que sus personajes aparecen juntos en las diferentes tomas. Los actores de doblaje cobran todos la misma cantidad por cada día que deben desplazarse hasta el estudio de grabación independientemente del número de tomas que se graben. No es posible grabar más de 6 tomas por día. El objetivo es planificar las sesiones por día de manera que el gasto por los servicios de los actores de doblaje sea el mejor posible. Los datos son:<br>\n",
    "**Número de actores: 10**<br>\n",
    "**Número de tomas: 30**<br>\n",
    "**Actores/Toma: https://bit.ly/36D8IuK**\n",
    "* 1 indica que actor participa en la toma\n",
    "* 0 en caso contrario\n",
    "\n",
    "\n",
    "(*) La respuesta es obligatoria\n",
    "\n",
    "\n",
    "\n",
    "\n",
    "\n",
    "                                        "
   ]
  },
  {
   "cell_type": "code",
   "execution_count": 1,
   "metadata": {
    "id": "AiskKkzZfy4e"
   },
   "outputs": [],
   "source": [
    "#Importamos la librerias necesarias para leer el csv\n",
    "import pandas as pd\n",
    "import numpy as np\n",
    "import random\n"
   ]
  },
  {
   "cell_type": "code",
   "execution_count": 2,
   "metadata": {},
   "outputs": [],
   "source": [
    "#leemos el archivo\n",
    "\n",
    "archivo = \"Datos_problema_doblaje.csv\"\n",
    "\n",
    "#Cargamos el archivo csv\n",
    "df= pd.read_csv(archivo)\n",
    "\n",
    "#Se establece la primera fila como encabezado real\n",
    "df.columns = df.iloc[0]\n",
    "df = df.drop(index=0).reset_index(drop=True)\n",
    "\n",
    "# Renombramos la primera comñlumna como Toma\n",
    "\n",
    "df = df.rename(columns={df.columns[0]: \"Toma\"})\n",
    "# Eliminamos columnas no necesarias\n",
    "df = df.drop(columns=[col for col in df.columns if pd.isna(col) or col =='Total'])\n",
    "#Eliminamos fila resumen\n",
    "df = df[~df[\"Toma\"].isin([\"TOTAL\"])]\n",
    "\n",
    "#Eliminamos filas Nan en toma\n",
    "df = df.dropna(subset=[\"Toma\"])\n",
    "#Convertir a entero\n",
    "df[\"Toma\"] = df[\"Toma\"].astype(int)\n",
    "# Tomas ordenadas\n",
    "tomas_ordenadas = sorted(df[\"Toma\"].tolist())\n",
    "df.iloc[:,1:]= df.iloc[:,1:].apply(pd.to_numeric)\n",
    "\n",
    "#Preparamos la lista (toma,[actores])\n",
    "tomas_actores=[]\n",
    "for _, row in df.iterrows():\n",
    "    actores_en_toma = []\n",
    "    for actor, valor in row.iloc[1:].items():\n",
    "        if valor == 1.0:\n",
    "            #convertir el nombre del actor en entero\n",
    "            actores_en_toma.append(int(float(actor)))\n",
    "    tomas_actores.append((row[\"Toma\"], actores_en_toma))"
   ]
  },
  {
   "cell_type": "markdown",
   "metadata": {
    "id": "3_-exlrTgLd-"
   },
   "source": [
    "(*)¿Cuantas posibilidades hay sin tener en cuenta las restricciones?<br>\n",
    "\n",
    "\n",
    "\n",
    "¿Cuantas posibilidades hay teniendo en cuenta todas las restricciones.\n",
    "\n",
    "\n"
   ]
  },
  {
   "cell_type": "code",
   "execution_count": 3,
   "metadata": {},
   "outputs": [
    {
     "data": {
      "text/html": [
       "<div>\n",
       "<style scoped>\n",
       "    .dataframe tbody tr th:only-of-type {\n",
       "        vertical-align: middle;\n",
       "    }\n",
       "\n",
       "    .dataframe tbody tr th {\n",
       "        vertical-align: top;\n",
       "    }\n",
       "\n",
       "    .dataframe thead th {\n",
       "        text-align: right;\n",
       "    }\n",
       "</style>\n",
       "<table border=\"1\" class=\"dataframe\">\n",
       "  <thead>\n",
       "    <tr style=\"text-align: right;\">\n",
       "      <th></th>\n",
       "      <th>Toma</th>\n",
       "      <th>1.0</th>\n",
       "      <th>2.0</th>\n",
       "      <th>3.0</th>\n",
       "      <th>4.0</th>\n",
       "      <th>5.0</th>\n",
       "      <th>6.0</th>\n",
       "      <th>7.0</th>\n",
       "      <th>8.0</th>\n",
       "      <th>9.0</th>\n",
       "      <th>10.0</th>\n",
       "    </tr>\n",
       "  </thead>\n",
       "  <tbody>\n",
       "    <tr>\n",
       "      <th>0</th>\n",
       "      <td>1</td>\n",
       "      <td>1.0</td>\n",
       "      <td>1.0</td>\n",
       "      <td>1.0</td>\n",
       "      <td>1.0</td>\n",
       "      <td>1.0</td>\n",
       "      <td>0.0</td>\n",
       "      <td>0.0</td>\n",
       "      <td>0.0</td>\n",
       "      <td>0.0</td>\n",
       "      <td>0.0</td>\n",
       "    </tr>\n",
       "    <tr>\n",
       "      <th>1</th>\n",
       "      <td>2</td>\n",
       "      <td>0.0</td>\n",
       "      <td>0.0</td>\n",
       "      <td>1.0</td>\n",
       "      <td>1.0</td>\n",
       "      <td>1.0</td>\n",
       "      <td>0.0</td>\n",
       "      <td>0.0</td>\n",
       "      <td>0.0</td>\n",
       "      <td>0.0</td>\n",
       "      <td>0.0</td>\n",
       "    </tr>\n",
       "    <tr>\n",
       "      <th>2</th>\n",
       "      <td>3</td>\n",
       "      <td>0.0</td>\n",
       "      <td>1.0</td>\n",
       "      <td>0.0</td>\n",
       "      <td>0.0</td>\n",
       "      <td>1.0</td>\n",
       "      <td>0.0</td>\n",
       "      <td>1.0</td>\n",
       "      <td>0.0</td>\n",
       "      <td>0.0</td>\n",
       "      <td>0.0</td>\n",
       "    </tr>\n",
       "    <tr>\n",
       "      <th>3</th>\n",
       "      <td>4</td>\n",
       "      <td>1.0</td>\n",
       "      <td>1.0</td>\n",
       "      <td>0.0</td>\n",
       "      <td>0.0</td>\n",
       "      <td>0.0</td>\n",
       "      <td>0.0</td>\n",
       "      <td>1.0</td>\n",
       "      <td>1.0</td>\n",
       "      <td>0.0</td>\n",
       "      <td>0.0</td>\n",
       "    </tr>\n",
       "    <tr>\n",
       "      <th>4</th>\n",
       "      <td>5</td>\n",
       "      <td>0.0</td>\n",
       "      <td>1.0</td>\n",
       "      <td>0.0</td>\n",
       "      <td>1.0</td>\n",
       "      <td>0.0</td>\n",
       "      <td>0.0</td>\n",
       "      <td>0.0</td>\n",
       "      <td>1.0</td>\n",
       "      <td>0.0</td>\n",
       "      <td>0.0</td>\n",
       "    </tr>\n",
       "    <tr>\n",
       "      <th>5</th>\n",
       "      <td>6</td>\n",
       "      <td>1.0</td>\n",
       "      <td>1.0</td>\n",
       "      <td>0.0</td>\n",
       "      <td>1.0</td>\n",
       "      <td>1.0</td>\n",
       "      <td>0.0</td>\n",
       "      <td>0.0</td>\n",
       "      <td>0.0</td>\n",
       "      <td>0.0</td>\n",
       "      <td>0.0</td>\n",
       "    </tr>\n",
       "    <tr>\n",
       "      <th>6</th>\n",
       "      <td>7</td>\n",
       "      <td>1.0</td>\n",
       "      <td>1.0</td>\n",
       "      <td>0.0</td>\n",
       "      <td>1.0</td>\n",
       "      <td>1.0</td>\n",
       "      <td>0.0</td>\n",
       "      <td>0.0</td>\n",
       "      <td>0.0</td>\n",
       "      <td>0.0</td>\n",
       "      <td>0.0</td>\n",
       "    </tr>\n",
       "    <tr>\n",
       "      <th>7</th>\n",
       "      <td>8</td>\n",
       "      <td>1.0</td>\n",
       "      <td>1.0</td>\n",
       "      <td>0.0</td>\n",
       "      <td>0.0</td>\n",
       "      <td>0.0</td>\n",
       "      <td>1.0</td>\n",
       "      <td>0.0</td>\n",
       "      <td>0.0</td>\n",
       "      <td>0.0</td>\n",
       "      <td>0.0</td>\n",
       "    </tr>\n",
       "    <tr>\n",
       "      <th>8</th>\n",
       "      <td>9</td>\n",
       "      <td>1.0</td>\n",
       "      <td>1.0</td>\n",
       "      <td>0.0</td>\n",
       "      <td>1.0</td>\n",
       "      <td>0.0</td>\n",
       "      <td>0.0</td>\n",
       "      <td>0.0</td>\n",
       "      <td>0.0</td>\n",
       "      <td>0.0</td>\n",
       "      <td>0.0</td>\n",
       "    </tr>\n",
       "    <tr>\n",
       "      <th>9</th>\n",
       "      <td>10</td>\n",
       "      <td>1.0</td>\n",
       "      <td>1.0</td>\n",
       "      <td>0.0</td>\n",
       "      <td>0.0</td>\n",
       "      <td>0.0</td>\n",
       "      <td>1.0</td>\n",
       "      <td>0.0</td>\n",
       "      <td>0.0</td>\n",
       "      <td>1.0</td>\n",
       "      <td>0.0</td>\n",
       "    </tr>\n",
       "    <tr>\n",
       "      <th>10</th>\n",
       "      <td>11</td>\n",
       "      <td>1.0</td>\n",
       "      <td>1.0</td>\n",
       "      <td>1.0</td>\n",
       "      <td>0.0</td>\n",
       "      <td>1.0</td>\n",
       "      <td>0.0</td>\n",
       "      <td>0.0</td>\n",
       "      <td>1.0</td>\n",
       "      <td>0.0</td>\n",
       "      <td>0.0</td>\n",
       "    </tr>\n",
       "    <tr>\n",
       "      <th>11</th>\n",
       "      <td>12</td>\n",
       "      <td>1.0</td>\n",
       "      <td>1.0</td>\n",
       "      <td>1.0</td>\n",
       "      <td>1.0</td>\n",
       "      <td>0.0</td>\n",
       "      <td>1.0</td>\n",
       "      <td>0.0</td>\n",
       "      <td>0.0</td>\n",
       "      <td>0.0</td>\n",
       "      <td>0.0</td>\n",
       "    </tr>\n",
       "    <tr>\n",
       "      <th>12</th>\n",
       "      <td>13</td>\n",
       "      <td>1.0</td>\n",
       "      <td>0.0</td>\n",
       "      <td>0.0</td>\n",
       "      <td>1.0</td>\n",
       "      <td>1.0</td>\n",
       "      <td>0.0</td>\n",
       "      <td>0.0</td>\n",
       "      <td>0.0</td>\n",
       "      <td>0.0</td>\n",
       "      <td>0.0</td>\n",
       "    </tr>\n",
       "    <tr>\n",
       "      <th>13</th>\n",
       "      <td>14</td>\n",
       "      <td>1.0</td>\n",
       "      <td>0.0</td>\n",
       "      <td>1.0</td>\n",
       "      <td>0.0</td>\n",
       "      <td>0.0</td>\n",
       "      <td>1.0</td>\n",
       "      <td>0.0</td>\n",
       "      <td>0.0</td>\n",
       "      <td>0.0</td>\n",
       "      <td>0.0</td>\n",
       "    </tr>\n",
       "    <tr>\n",
       "      <th>14</th>\n",
       "      <td>15</td>\n",
       "      <td>1.0</td>\n",
       "      <td>1.0</td>\n",
       "      <td>0.0</td>\n",
       "      <td>0.0</td>\n",
       "      <td>0.0</td>\n",
       "      <td>0.0</td>\n",
       "      <td>1.0</td>\n",
       "      <td>0.0</td>\n",
       "      <td>0.0</td>\n",
       "      <td>0.0</td>\n",
       "    </tr>\n",
       "    <tr>\n",
       "      <th>15</th>\n",
       "      <td>16</td>\n",
       "      <td>0.0</td>\n",
       "      <td>0.0</td>\n",
       "      <td>0.0</td>\n",
       "      <td>1.0</td>\n",
       "      <td>0.0</td>\n",
       "      <td>0.0</td>\n",
       "      <td>0.0</td>\n",
       "      <td>0.0</td>\n",
       "      <td>0.0</td>\n",
       "      <td>1.0</td>\n",
       "    </tr>\n",
       "    <tr>\n",
       "      <th>16</th>\n",
       "      <td>17</td>\n",
       "      <td>1.0</td>\n",
       "      <td>0.0</td>\n",
       "      <td>1.0</td>\n",
       "      <td>0.0</td>\n",
       "      <td>0.0</td>\n",
       "      <td>0.0</td>\n",
       "      <td>0.0</td>\n",
       "      <td>0.0</td>\n",
       "      <td>0.0</td>\n",
       "      <td>0.0</td>\n",
       "    </tr>\n",
       "    <tr>\n",
       "      <th>17</th>\n",
       "      <td>18</td>\n",
       "      <td>0.0</td>\n",
       "      <td>0.0</td>\n",
       "      <td>1.0</td>\n",
       "      <td>0.0</td>\n",
       "      <td>0.0</td>\n",
       "      <td>1.0</td>\n",
       "      <td>0.0</td>\n",
       "      <td>0.0</td>\n",
       "      <td>0.0</td>\n",
       "      <td>0.0</td>\n",
       "    </tr>\n",
       "    <tr>\n",
       "      <th>18</th>\n",
       "      <td>19</td>\n",
       "      <td>1.0</td>\n",
       "      <td>0.0</td>\n",
       "      <td>1.0</td>\n",
       "      <td>0.0</td>\n",
       "      <td>0.0</td>\n",
       "      <td>0.0</td>\n",
       "      <td>0.0</td>\n",
       "      <td>0.0</td>\n",
       "      <td>0.0</td>\n",
       "      <td>0.0</td>\n",
       "    </tr>\n",
       "    <tr>\n",
       "      <th>19</th>\n",
       "      <td>20</td>\n",
       "      <td>1.0</td>\n",
       "      <td>0.0</td>\n",
       "      <td>1.0</td>\n",
       "      <td>1.0</td>\n",
       "      <td>1.0</td>\n",
       "      <td>0.0</td>\n",
       "      <td>0.0</td>\n",
       "      <td>0.0</td>\n",
       "      <td>0.0</td>\n",
       "      <td>0.0</td>\n",
       "    </tr>\n",
       "    <tr>\n",
       "      <th>20</th>\n",
       "      <td>21</td>\n",
       "      <td>0.0</td>\n",
       "      <td>0.0</td>\n",
       "      <td>0.0</td>\n",
       "      <td>0.0</td>\n",
       "      <td>0.0</td>\n",
       "      <td>1.0</td>\n",
       "      <td>0.0</td>\n",
       "      <td>1.0</td>\n",
       "      <td>0.0</td>\n",
       "      <td>0.0</td>\n",
       "    </tr>\n",
       "    <tr>\n",
       "      <th>21</th>\n",
       "      <td>22</td>\n",
       "      <td>1.0</td>\n",
       "      <td>1.0</td>\n",
       "      <td>1.0</td>\n",
       "      <td>1.0</td>\n",
       "      <td>0.0</td>\n",
       "      <td>0.0</td>\n",
       "      <td>0.0</td>\n",
       "      <td>0.0</td>\n",
       "      <td>0.0</td>\n",
       "      <td>0.0</td>\n",
       "    </tr>\n",
       "    <tr>\n",
       "      <th>22</th>\n",
       "      <td>23</td>\n",
       "      <td>1.0</td>\n",
       "      <td>0.0</td>\n",
       "      <td>1.0</td>\n",
       "      <td>0.0</td>\n",
       "      <td>0.0</td>\n",
       "      <td>0.0</td>\n",
       "      <td>0.0</td>\n",
       "      <td>0.0</td>\n",
       "      <td>0.0</td>\n",
       "      <td>0.0</td>\n",
       "    </tr>\n",
       "    <tr>\n",
       "      <th>23</th>\n",
       "      <td>24</td>\n",
       "      <td>0.0</td>\n",
       "      <td>0.0</td>\n",
       "      <td>1.0</td>\n",
       "      <td>0.0</td>\n",
       "      <td>0.0</td>\n",
       "      <td>1.0</td>\n",
       "      <td>0.0</td>\n",
       "      <td>0.0</td>\n",
       "      <td>0.0</td>\n",
       "      <td>0.0</td>\n",
       "    </tr>\n",
       "    <tr>\n",
       "      <th>24</th>\n",
       "      <td>25</td>\n",
       "      <td>1.0</td>\n",
       "      <td>1.0</td>\n",
       "      <td>0.0</td>\n",
       "      <td>1.0</td>\n",
       "      <td>0.0</td>\n",
       "      <td>0.0</td>\n",
       "      <td>0.0</td>\n",
       "      <td>0.0</td>\n",
       "      <td>0.0</td>\n",
       "      <td>1.0</td>\n",
       "    </tr>\n",
       "    <tr>\n",
       "      <th>25</th>\n",
       "      <td>26</td>\n",
       "      <td>1.0</td>\n",
       "      <td>0.0</td>\n",
       "      <td>1.0</td>\n",
       "      <td>0.0</td>\n",
       "      <td>1.0</td>\n",
       "      <td>0.0</td>\n",
       "      <td>0.0</td>\n",
       "      <td>0.0</td>\n",
       "      <td>1.0</td>\n",
       "      <td>0.0</td>\n",
       "    </tr>\n",
       "    <tr>\n",
       "      <th>26</th>\n",
       "      <td>27</td>\n",
       "      <td>0.0</td>\n",
       "      <td>0.0</td>\n",
       "      <td>0.0</td>\n",
       "      <td>1.0</td>\n",
       "      <td>1.0</td>\n",
       "      <td>0.0</td>\n",
       "      <td>0.0</td>\n",
       "      <td>0.0</td>\n",
       "      <td>0.0</td>\n",
       "      <td>0.0</td>\n",
       "    </tr>\n",
       "    <tr>\n",
       "      <th>27</th>\n",
       "      <td>28</td>\n",
       "      <td>1.0</td>\n",
       "      <td>0.0</td>\n",
       "      <td>0.0</td>\n",
       "      <td>1.0</td>\n",
       "      <td>0.0</td>\n",
       "      <td>0.0</td>\n",
       "      <td>0.0</td>\n",
       "      <td>0.0</td>\n",
       "      <td>0.0</td>\n",
       "      <td>0.0</td>\n",
       "    </tr>\n",
       "    <tr>\n",
       "      <th>28</th>\n",
       "      <td>29</td>\n",
       "      <td>1.0</td>\n",
       "      <td>0.0</td>\n",
       "      <td>0.0</td>\n",
       "      <td>0.0</td>\n",
       "      <td>1.0</td>\n",
       "      <td>1.0</td>\n",
       "      <td>0.0</td>\n",
       "      <td>0.0</td>\n",
       "      <td>0.0</td>\n",
       "      <td>0.0</td>\n",
       "    </tr>\n",
       "    <tr>\n",
       "      <th>29</th>\n",
       "      <td>30</td>\n",
       "      <td>1.0</td>\n",
       "      <td>0.0</td>\n",
       "      <td>0.0</td>\n",
       "      <td>1.0</td>\n",
       "      <td>0.0</td>\n",
       "      <td>0.0</td>\n",
       "      <td>0.0</td>\n",
       "      <td>0.0</td>\n",
       "      <td>0.0</td>\n",
       "      <td>0.0</td>\n",
       "    </tr>\n",
       "  </tbody>\n",
       "</table>\n",
       "</div>"
      ],
      "text/plain": [
       "0   Toma  1.0  2.0  3.0  4.0  5.0  6.0  7.0  8.0  9.0  10.0\n",
       "0      1  1.0  1.0  1.0  1.0  1.0  0.0  0.0  0.0  0.0   0.0\n",
       "1      2  0.0  0.0  1.0  1.0  1.0  0.0  0.0  0.0  0.0   0.0\n",
       "2      3  0.0  1.0  0.0  0.0  1.0  0.0  1.0  0.0  0.0   0.0\n",
       "3      4  1.0  1.0  0.0  0.0  0.0  0.0  1.0  1.0  0.0   0.0\n",
       "4      5  0.0  1.0  0.0  1.0  0.0  0.0  0.0  1.0  0.0   0.0\n",
       "5      6  1.0  1.0  0.0  1.0  1.0  0.0  0.0  0.0  0.0   0.0\n",
       "6      7  1.0  1.0  0.0  1.0  1.0  0.0  0.0  0.0  0.0   0.0\n",
       "7      8  1.0  1.0  0.0  0.0  0.0  1.0  0.0  0.0  0.0   0.0\n",
       "8      9  1.0  1.0  0.0  1.0  0.0  0.0  0.0  0.0  0.0   0.0\n",
       "9     10  1.0  1.0  0.0  0.0  0.0  1.0  0.0  0.0  1.0   0.0\n",
       "10    11  1.0  1.0  1.0  0.0  1.0  0.0  0.0  1.0  0.0   0.0\n",
       "11    12  1.0  1.0  1.0  1.0  0.0  1.0  0.0  0.0  0.0   0.0\n",
       "12    13  1.0  0.0  0.0  1.0  1.0  0.0  0.0  0.0  0.0   0.0\n",
       "13    14  1.0  0.0  1.0  0.0  0.0  1.0  0.0  0.0  0.0   0.0\n",
       "14    15  1.0  1.0  0.0  0.0  0.0  0.0  1.0  0.0  0.0   0.0\n",
       "15    16  0.0  0.0  0.0  1.0  0.0  0.0  0.0  0.0  0.0   1.0\n",
       "16    17  1.0  0.0  1.0  0.0  0.0  0.0  0.0  0.0  0.0   0.0\n",
       "17    18  0.0  0.0  1.0  0.0  0.0  1.0  0.0  0.0  0.0   0.0\n",
       "18    19  1.0  0.0  1.0  0.0  0.0  0.0  0.0  0.0  0.0   0.0\n",
       "19    20  1.0  0.0  1.0  1.0  1.0  0.0  0.0  0.0  0.0   0.0\n",
       "20    21  0.0  0.0  0.0  0.0  0.0  1.0  0.0  1.0  0.0   0.0\n",
       "21    22  1.0  1.0  1.0  1.0  0.0  0.0  0.0  0.0  0.0   0.0\n",
       "22    23  1.0  0.0  1.0  0.0  0.0  0.0  0.0  0.0  0.0   0.0\n",
       "23    24  0.0  0.0  1.0  0.0  0.0  1.0  0.0  0.0  0.0   0.0\n",
       "24    25  1.0  1.0  0.0  1.0  0.0  0.0  0.0  0.0  0.0   1.0\n",
       "25    26  1.0  0.0  1.0  0.0  1.0  0.0  0.0  0.0  1.0   0.0\n",
       "26    27  0.0  0.0  0.0  1.0  1.0  0.0  0.0  0.0  0.0   0.0\n",
       "27    28  1.0  0.0  0.0  1.0  0.0  0.0  0.0  0.0  0.0   0.0\n",
       "28    29  1.0  0.0  0.0  0.0  1.0  1.0  0.0  0.0  0.0   0.0\n",
       "29    30  1.0  0.0  0.0  1.0  0.0  0.0  0.0  0.0  0.0   0.0"
      ]
     },
     "execution_count": 3,
     "metadata": {},
     "output_type": "execute_result"
    }
   ],
   "source": [
    "df"
   ]
  },
  {
   "cell_type": "code",
   "execution_count": 4,
   "metadata": {},
   "outputs": [],
   "source": [
    "sessions =np.array(df)"
   ]
  },
  {
   "cell_type": "markdown",
   "metadata": {
    "id": "WfCUqJyKhPcw"
   },
   "source": [
    "Respuesta"
   ]
  },
  {
   "cell_type": "code",
   "execution_count": 5,
   "metadata": {
    "id": "iq6Fe32MgpDX"
   },
   "outputs": [],
   "source": [
    "def scenes_organization_gh(sessions, skip_scenes):\n",
    "    '''Inicializa:\n",
    "    Crea una lista de todos las escenas no asignadas\n",
    "    Crea una lista vacia para cada day para asignar la scenes.\n",
    "    '''\n",
    "    num_scenes = sessions.shape[0]\n",
    "    unassigned = set(range(num_scenes))\n",
    "    days = []\n",
    "    ''' Mientras las escenas no esten asignadas:\n",
    "    Seleccionamos una escena que no este asignada cmo la semilla para un nuevo día\n",
    "    Para este, día intenta agregar hasta 5 escenas no asignadas adicionales que tengan la\n",
    "    mayor coincidencia de actores con el grupo actual (es decir, que al agregarlas aumenten\n",
    "    lo menos posible el conjunto de actores únicos. Asigna estas escenas al día actual y elimpinalas de\n",
    "    la lista de escenas no asignadas'''\n",
    "    \n",
    "    while unassigned:\n",
    "        #obtnemos una escena cualquiera de la lista no asignada\n",
    "        seed_scene = random.choice(list(unassigned))\n",
    "        day_scenes= [seed_scene]\n",
    "        unassigned.remove(seed_scene)\n",
    "\n",
    "        #Obtenmos el set de actores presentes en la primera escena\n",
    "        actors_in_day= set(np.where(sessions[day_scenes[0]]==1)[0])\n",
    "\n",
    "        #Tratamos de añadir más de 5 escenas para este día\n",
    "        for _ in range(5):\n",
    "            best_scene = None\n",
    "            best_increase = None\n",
    "            #Iteramos sobre las escenas no asignadas\n",
    "            for scene in unassigned:\n",
    "                #Caculamos el aumento en el número de actores únicos si se añade a esta escena\n",
    "                #actors_in_day es el conjunto de datos de actores ya asignados a este día.\n",
    "                #actors_in_scene es el conjunto de datos de actores en la escena que se está analizando actualmente\n",
    "                actors_in_scene= set(np.where(sessions[scene] == 1)[0])\n",
    "                #esto fue pensado para omitir escenas que solo tuvieran actores no presentes actualmente,\n",
    "                #pero termino generando peores resultados\n",
    "                \n",
    "                if skip_scenes and actors_in_scene.difference(actors_in_day) == set():\n",
    "                    continue #Saltamos si no se repiten actores nuevos\n",
    "                increase = len(actors_in_day | actors_in_scene) - len(actors_in_day)\n",
    "                if best_scene is None or increase < best_increase:\n",
    "                    best_scene = scene\n",
    "                    best_increase = increase\n",
    "            if best_scene is not None:\n",
    "                day_scenes.append(best_scene)\n",
    "                actors_in_day |= set(np.where(sessions[best_scene] == 1)[0])#actualiza el cojunto de datos\n",
    "                unassigned.remove(best_scene)\n",
    "            else:\n",
    "                break\n",
    "        days.append(day_scenes)\n",
    "    return days\n",
    "\n"
   ]
  },
  {
   "cell_type": "code",
   "execution_count": 6,
   "metadata": {},
   "outputs": [],
   "source": [
    "def calc_cost(days, sessions):\n",
    "    #Para cada día, contamos los actores únicos presentes ( es decir, cualquier actor que tenga un valor de 1 en alguna escena asignada ese día)\n",
    "    #Sumamos estos conteos a lo largo de todos los días para obtner el total de actores\n",
    "    # Calculamos el total de actor-dias\n",
    "    total_actor_days = 0\n",
    "    day = 0\n",
    "    for day_scenes in days:\n",
    "        actors = set()\n",
    "        for scene in day_scenes:\n",
    "            actors |= set(np.where(sessions[scene] == 1)[0])\n",
    "        total_actor_days += len(actors)\n",
    "        day +=1\n",
    "    return total_actor_days\n",
    "\n",
    "\n",
    "    "
   ]
  },
  {
   "cell_type": "code",
   "execution_count": 7,
   "metadata": {},
   "outputs": [
    {
     "name": "stdout",
     "output_type": "stream",
     "text": [
      "Forzando a las 6 escenas por día\n",
      "Scenes of days 1:[18, 16, 22, 13, 17, 23]\n",
      "Scenes of days 2:[28, 7, 2, 14, 3, 20]\n",
      "Scenes of days 3:[1, 26, 12, 19, 27, 29]\n",
      "Scenes of days 4:[8, 4, 5, 6, 10, 21]\n",
      "Scenes of days 5:[9, 11, 15, 24, 25, 0]\n",
      "Total times I have to pay if these scenes are scheduled (greedy): 28\n",
      "Without forcing 6 scenes per day:\n",
      "Scenes od day 1:[26, 1, 12, 5, 0, 2]\n",
      "Scenes od day 2:[16, 13, 7, 8, 4, 3]\n",
      "Scenes od day 3:[27, 15, 18, 17, 11, 6]\n",
      "Scenes od day 4:[9, 14, 20, 22, 10, 19]\n",
      "Scenes od day 5:[23, 28, 25, 29, 21, 24]\n",
      "Total times I have to pay if these scenes are scheduled (greedy): 38\n"
     ]
    }
   ],
   "source": [
    "total_actor_days = 99999\n",
    "days=[]\n",
    "\n",
    "print(\"Forzando a las 6 escenas por día\")\n",
    "for t in range(100):# Una pequeña mejora: buscamos la mejor opción en X intentos, en este caso 100 porque fue el número que me dio 27 la mayoria de veces\n",
    "    days_n = scenes_organization_gh(sessions, False)\n",
    "    total_actor_days_n= calc_cost(days_n, sessions)\n",
    "    if total_actor_days_n < total_actor_days:\n",
    "        total_actor_days = total_actor_days_n\n",
    "        days = days_n\n",
    "day = 1\n",
    "for day_scenes in days:\n",
    "    print(f'Scenes of days {day}:{day_scenes}')\n",
    "    day += 1\n",
    "print(\"Total times I have to pay if these scenes are scheduled (greedy):\", total_actor_days)\n",
    "\n",
    "total_actor_days = 99999\n",
    "days = []\n",
    "\n",
    "print(\"Without forcing 6 scenes per day:\")\n",
    "for t in range (1):\n",
    "    days_n = scenes_organization_gh(sessions, True)\n",
    "    total_actor_days_n = calc_cost(days_n, sessions)\n",
    "    if total_actor_days_n < total_actor_days:\n",
    "        total_actor_days = total_actor_days_n\n",
    "        days = days_n\n",
    "day = 1\n",
    "for day_scenes in days:\n",
    "    print(f'Scenes od day {day}:{day_scenes}')\n",
    "    day += 1\n",
    "print(\"Total times I have to pay if these scenes are scheduled (greedy):\", total_actor_days)"
   ]
  },
  {
   "cell_type": "code",
   "execution_count": 8,
   "metadata": {},
   "outputs": [
    {
     "name": "stdout",
     "output_type": "stream",
     "text": [
      "Day 1: Scenes [11, 15, 21, 24, 27, 29]\n",
      "Day 2: Scenes [7, 9, 10, 20, 25, 28]\n",
      "Day 3: Scenes [2, 3, 4, 8, 12, 14]\n",
      "Day 4: Scenes [0, 1, 5, 6, 19, 26]\n",
      "Day 5: Scenes [13, 16, 17, 18, 22, 23]\n",
      "Total times I have to pay if these scenes are scheduled (Solver): 28\n",
      "Solver result is: OPTIMAL\n"
     ]
    }
   ],
   "source": [
    " #Source https://developers.google.com/optimization/scheduling/employee_scheduling?hl=es-419#scheduling_with_shift_requests\n",
    "# I was trying with a solver to compare results, google implements something similar but for maximizing nurses shifts.\n",
    "# Interesting enough the this solver returns the 27 as the best solution, same as the greedy algorithm above.\n",
    "# With this solver I cant find a way to allow more than 5 days (num_scenees / max_scenes_per_day)\n",
    "\n",
    "from ortools.sat.python import cp_model\n",
    "\n",
    "# Sessions is scenes x actors\n",
    "num_scenes, num_actors = sessions.shape\n",
    "max_scenes_per_day = 6\n",
    "max_days = int(num_scenes / max_scenes_per_day)\n",
    "\n",
    "\n",
    "model = cp_model.CpModel()\n",
    "\n",
    "# Variables for the solver\n",
    "# scene_day[s][d] = 1 if scene s is assigned to day d\n",
    "scene_day = []\n",
    "for s in range(num_scenes):\n",
    "    scene_day.append([model.NewBoolVar(f'scene_{s}_day_{d}') for d in range(max_days)])\n",
    "\n",
    "# actor_day[a][d] = 1 if actor a is present on day d\n",
    "actor_day = []\n",
    "for a in range(num_actors):\n",
    "    actor_day.append([model.NewBoolVar(f'actor_{a}_day_{d}') for d in range(max_days)])\n",
    "\n",
    "# Constraints\n",
    "# Each scene assigned to exactly one day\n",
    "for s in range(num_scenes):\n",
    "    model.Add(sum(scene_day[s][d] for d in range(max_days)) == 1)\n",
    "\n",
    "# No more than X scenes per day\n",
    "for d in range(max_days):\n",
    "    model.Add(sum(scene_day[s][d] for s in range(num_scenes)) <= max_scenes_per_day)\n",
    "\n",
    "# If an actor appears in any scene on a day, they must be present that day\n",
    "for a in range(num_actors):\n",
    "    for d in range(max_days):\n",
    "        for s in range(num_scenes):\n",
    "            if sessions[s, a] == 1:\n",
    "                # If scene s is assigned to day d and actor a is in scene s, actor a must be present that day\n",
    "                model.AddImplication(scene_day[s][d], actor_day[a][d])\n",
    "        # If actor_day[a][d] is True, at least one scene assigned to day d must require actor a\n",
    "        model.AddMaxEquality(actor_day[a][d], [scene_day[s][d] if sessions[s, a] == 1 else model.NewConstant(0) for s in range(num_scenes)])\n",
    "\n",
    "# Objective: Minimize total actor-days\n",
    "model.Minimize(sum(actor_day[a][d] for a in range(num_actors) for d in range(max_days)))\n",
    "\n",
    "# Solve\n",
    "solver = cp_model.CpSolver()\n",
    "status = solver.Solve(model)\n",
    "\n",
    "\n",
    "if status in (cp_model.OPTIMAL, cp_model.FEASIBLE):\n",
    "    total_actor_days = int(solver.ObjectiveValue())\n",
    "    # Print schedule\n",
    "    for d in range(max_days):\n",
    "        scenes_today = [s for s in range(num_scenes) if solver.Value(scene_day[s][d])]\n",
    "        if scenes_today:\n",
    "            print(f'Day {d+1}: Scenes {scenes_today}')\n",
    "    print(\"Total times I have to pay if these scenes are scheduled (Solver):\", total_actor_days)\n",
    "    print(\"Solver result is:\", solver.StatusName(status))\n",
    "\n",
    "else:\n",
    "    print('No solution found.')"
   ]
  },
  {
   "cell_type": "markdown",
   "metadata": {
    "id": "dzynfVJahHoY"
   },
   "source": [
    "Modelo para el espacio de soluciones<br>\n",
    "(*) ¿Cuantas posiblidades hay sin tener en cuenta las restricciones?\n",
    "¿Cuantas posibilidades hay teniendo en cuenta todas las restricciones?\n"
   ]
  },
  {
   "cell_type": "markdown",
   "metadata": {
    "id": "xFIJrOwKi2Ti"
   },
   "source": [
    "Respuesta"
   ]
  },
  {
   "cell_type": "markdown",
   "metadata": {
    "id": "38c-7-ejhJmA"
   },
   "source": [
    "### Sin restricciones\n",
    "Sin restricciones, la solución más directa sería asignar a todas las escenas un solo día y llevar a todos los actores ese día. Es decir, simplemente concentrar toda la producción en una única jornada. Bajo esa lógica existiría una única posibilidad: todas las escenas grabadas en el mismo día, sin considerar límites por jornada ni presencia justificada de actores. Esta opción, aunque sencilla no es para nada realista en un entorno de producción ya que no respeta las capacidades logisticas ni tampoco la distribución de la carga de trabaja\n",
    "\n",
    "### Con restricciones\n",
    "Con las restricciones que implementé en el algoritmo, el número de combinaciones posibles que observa que se reduce drasticamente, pero sigue sinedo alto. Para mi enfoque el algoritmo selecciona aleatoriamente una escena inicial para comenzar cada día y a partir de ahi, agrega sistemáticamente las mejores opciones en función de los actores que coincidan, buscando minimizar la cantidad total de actores únicos por día.\n",
    "Cuando nosotros iniciamos tenemos  escenas disponiibles por lo que existe 30 posibles combinaciones iniciales para arrancar el primer día. Luego de esto se repite con las sesiones restantes.\n",
    "$$30*24*18*12*6 = 2985984$$\n",
    "Esto representa una búsqueda acotada pero aún significativa. Como se utiliza un algoritmo voraz y gracias a su estructura el espacio de busqueda es manejable y lleva consistentemente a soluciones más optimas. Una vez ejecutado el código la solución más optima que nos da es uqe pagare **27 veces**. Lo que representa la mejor planificación alcanzada bajo los criterios definidos."
   ]
  },
  {
   "cell_type": "markdown",
   "metadata": {
    "id": "7Z9U2W7bi-XS"
   },
   "source": [
    "Según el modelo para el espacio de soluciones<br>\n",
    "(*)¿Cual es la estructura de datos que mejor se adapta al problema? Argumenta la respuesta (Es posible que hayas elegido una al principio y veas la necesidad de cambiar, argumenta)\n",
    "\n"
   ]
  },
  {
   "cell_type": "markdown",
   "metadata": {
    "id": "hBalWLM7j1_d"
   },
   "source": [
    "Respuesta"
   ]
  },
  {
   "cell_type": "markdown",
   "metadata": {
    "id": "pDA-rg3Gj5Lz"
   },
   "source": [
    "Al analizar el ejercicio decidi utilizar una estructura de datos de tipo np.array para representar la matriz sessions.<br>\n",
    "Esta elección fue tomada porque los datos de entrada que nos proporcionaron ya estan en un formato matricial de dimensiones $n x m$, en el cual **n** representa el número de escenas y **m** el número de actores.<br>\n",
    "Al utilizar un array de Numpy me resulto más fácil porque nos permite acceder de forma eficiente a cada uno de los valores, iterar sobre filas y columnas, se puede realizar operaciones lógicas o matemáticas con una buena performance ya que Numpy nos permite realizar operaciones complejas con matrices.<br>\n"
   ]
  },
  {
   "cell_type": "markdown",
   "metadata": {},
   "source": [
    "Según el modelo para el espacio de soluciones<br>\n",
    "(*)¿Cual es la función objetivo?\n",
    "\n",
    "(*)¿Es un problema de maximización o minimización?"
   ]
  },
  {
   "cell_type": "markdown",
   "metadata": {},
   "source": [
    "#### Respuesta\n",
    "La función objetivo de mi modelo consiste en **minimizar el número totla de actor por dia**, es decir reducir al máximo la cantidad de vexes que los actores deben asistir al rodaje durante todo el tiempo de grabación.\n",
    "Esta métrica no solo optimiza lso recursos humanos, sino que también tiene un impacto directo en lso costos de producción y logística.\n",
    "\n",
    "Con esta respuesta también se contesta a la pregunta ¿Es un problema de maximización o minimización?"
   ]
  },
  {
   "cell_type": "markdown",
   "metadata": {
    "id": "rlnTYgY1j6I2"
   },
   "source": [
    "Diseña un algoritmo para resolver el problema por fuerza bruta"
   ]
  },
  {
   "cell_type": "markdown",
   "metadata": {
    "id": "70rDgxYXkC8r"
   },
   "source": [
    "Respuesta"
   ]
  },
  {
   "cell_type": "code",
   "execution_count": 9,
   "metadata": {
    "id": "CJb5sQ0qkENy"
   },
   "outputs": [],
   "source": [
    "import itertools\n",
    "import numpy as np\n",
    "\n",
    "def calcular_actor_dias(sessions, calendario):\n",
    "    num_actors = sessions.shape[1]\n",
    "    total_actor_dias = 0\n",
    "    for dia in calendario:\n",
    "        actores_presentes = set()\n",
    "        for escena in dia:\n",
    "            for actor in range(num_actors):\n",
    "                if sessions[escena][actor] == 1:\n",
    "                    actores_presentes.add(actor)\n",
    "        total_actor_dias += len(actores_presentes)\n",
    "    return total_actor_dias\n"
   ]
  },
  {
   "cell_type": "code",
   "execution_count": 10,
   "metadata": {},
   "outputs": [],
   "source": [
    "def fuerza_bruta(sessions, max_scenes_per_day=6):\n",
    "    num_scenes = sessions.shape[0]\n",
    "    escenas = list(range(num_scenes))\n",
    "    \n",
    "    # Todas las permutaciones de escenas posibles\n",
    "    mejores_actor_dias = float('inf')\n",
    "    mejor_calendario = None\n",
    "\n",
    "    for perm in itertools.permutations(escenas):\n",
    "        # Agrupar en días con máximo 'max_scenes_per_day'\n",
    "        calendario = [list(perm[i:i+max_scenes_per_day]) for i in range(0, num_scenes, max_scenes_per_day)]\n",
    "        actor_dias = calcular_actor_dias(sessions, calendario)\n",
    "\n",
    "        if actor_dias < mejores_actor_dias:\n",
    "            mejores_actor_dias = actor_dias\n",
    "            mejor_calendario = calendario\n",
    "\n",
    "    return mejor_calendario, mejores_actor_dias"
   ]
  },
  {
   "cell_type": "code",
   "execution_count": 11,
   "metadata": {},
   "outputs": [
    {
     "name": "stdout",
     "output_type": "stream",
     "text": [
      "Mejor calendario: [[0, 1], [2, 3]]\n",
      "Tengo que pagar a : 4\n"
     ]
    }
   ],
   "source": [
    "#Matriz de ejemplo de sesiones: 4 escenas y 3 actores\n",
    "# escena 0: actor 0 y 1\n",
    "# escena 1: actor 1\n",
    "# escena 2: actor 0 y 2\n",
    "# escena 3: actor 2\n",
    "sessions = np.array([\n",
    "    [1, 1, 0],\n",
    "    [0, 1, 0],\n",
    "    [1, 0, 1],\n",
    "    [0, 0, 1]\n",
    "])\n",
    "\n",
    "calendario, actor_dias = fuerza_bruta(sessions, max_scenes_per_day=2)\n",
    "print(\"Mejor calendario:\", calendario)\n",
    "print(\"Tengo que pagar a :\", actor_dias)"
   ]
  },
  {
   "cell_type": "markdown",
   "metadata": {
    "id": "tgrnsC2nkFa8"
   },
   "source": [
    "Calcula la complejidad del algoritmo por fuerza bruta"
   ]
  },
  {
   "cell_type": "markdown",
   "metadata": {
    "id": "9eUd3xwckP68"
   },
   "source": [
    "Respuesta"
   ]
  },
  {
   "cell_type": "markdown",
   "metadata": {
    "id": "rvZWwL-ckRST"
   },
   "source": [
    "Según lo que investigué, si no se tuvieran en cuenta las restricciones del problema, la cantidad de formas posibles de agrupar las escenas sería equivalente al n-ésimo número de Bell, denotado como $𝐵(𝑛)$. Esta secuencia representa el número de formas posibles de particionar un conjunto de 𝑛 elementos, y su crecimiento es incluso más rápido que una función exponencial. Es decir, el problema sin restricciones crece de manera extremadamente rápida y se vuelve computacionalmente intratable a medida que aumenta el número de escenas. (Referencia: https://es.wikipedia.org/wiki/Número_de_Bell)<br>\n",
    "Sin embargo, al introducir restricciones como:<br>\n",
    "* El número máximo de escenas por día (k)\n",
    "* La asignación obligatoria de cada escena a un único día\n",
    "* y la necesidad de minimizar actor-días\n",
    "el espacio de búsqueda se reduce, aunque sigue siendo muy grande.<br>\n",
    "\n",
    "Para estimar la complejidad con restricciones, debemos considerar que el algoritmo por fuerza bruta evalúa todas las particiones posibles de las n escenas en grupos de máximo k elementos. Si llamamos a esto $𝑃(𝑛,𝑘)$, representa la cantidad de formas posibles de agrupar n escenas en días donde cada día tiene a lo sumo k escenas.<br>\n",
    "Además, por cada una de estas combinaciones se calcula cuántos actores participan en cada día, lo cual depende del número de actores a y del total de escenas n.<br>\n",
    "Por lo tanto, la complejidad total del algoritmo por fuerza bruta puede expresarse como:\n",
    "$$𝑂(𝑛⋅𝑎⋅𝑃(𝑛,𝑘))$$\n",
    "donde:\n",
    "* 𝑛= número de escenas,\n",
    "* 𝑎= número de actores,\n",
    "* 𝑘= número máximo de escenas por día,\n",
    "* $𝑃(𝑛,𝑘)$ = número de formas de agrupar n escenas en días con como máximo k escenas.\n",
    "\n",
    "El gran inconveniente es que $𝑃(𝑛,𝑘)$ crece extremadamente rápido, por lo que incluso con las restricciones aplicadas, el algoritmo de fuerza bruta no es viable para valores grandes como 30 escenas. Es por esta razón que opté por utilizar algoritmos más eficientes como los modelos de programación con restricciones (CP) o algoritmos heurísticos."
   ]
  },
  {
   "cell_type": "markdown",
   "metadata": {
    "id": "txbrmLmskReM"
   },
   "source": [
    "(*)Diseña un algoritmo que mejore la complejidad del algortimo por fuerza bruta. Argumenta porque crees que mejora el algoritmo por fuerza bruta"
   ]
  },
  {
   "cell_type": "markdown",
   "metadata": {
    "id": "hLrVwt5QkZPD"
   },
   "source": [
    "Respuesta"
   ]
  },
  {
   "cell_type": "markdown",
   "metadata": {
    "id": "m1eyM21Vkabg"
   },
   "source": [
    "Considero que el algoritmo que desarrollé, denominado scenes_organization_gh, representa una mejora \n",
    "significativa respecto al enfoque por fuerza bruta, tanto en términos de eficiencia como de viabilidad práctica.<br>\n",
    "El algoritmo se basa en una estrategia heurística voraz que consiste en seleccionar de forma aleatoria una \n",
    "escena no asignada como semilla para un nuevo día de rodaje. A partir de esta escena inicial, se agregan hasta \n",
    "cinco escenas adicionales que compartan la mayor cantidad posible de actores con el grupo actual. Esta elección tiene \n",
    "como objetivo reducir la cantidad de actores únicos por día, lo cual impacta directamente en la minimización del total de actor-días.<br>\n",
    "Una de las principales mejoras con respecto a la fuerza bruta es que no se generan todas las combinaciones posibles. En lugar de eso, el \n",
    "algoritmo toma decisiones secuenciales basadas en criterios de coincidencia de actores, y va eliminando las escenas ya asignadas del conjunto de análisis, lo que reduce considerablemente el tamaño de los ciclos en cada iteración. Esto acelera el tiempo de procesamiento de manera significativa.<br>\n",
    "Es cierto que, debido a la aleatoriedad en la elección de la escena inicial, no siempre se obtiene la solución óptima. Sin embargo, \n",
    "la gran ventaja de este enfoque es que su bajo costo computacional permite ejecutar el algoritmo múltiples veces por ejemplo, 100 ejecuciones en pocos segundos, \n",
    "y seleccionar la mejor solución entre todas. Esta técnica, combinada con una posible implementación de búsqueda local, permitiría alcanzar soluciones muy cercanas al óptimo en tiempos prácticos.<br>\n"
   ]
  },
  {
   "cell_type": "markdown",
   "metadata": {
    "id": "eGDB4K6uk1iN"
   },
   "source": [
    "(*)Calcula la complejidad del algoritmo"
   ]
  },
  {
   "cell_type": "markdown",
   "metadata": {
    "id": "NhpTh_BPk1ms"
   },
   "source": [
    "Respuesta"
   ]
  },
  {
   "cell_type": "markdown",
   "metadata": {
    "id": "nREzhkStlCq8"
   },
   "source": [
    "Para cada dia, se selecciona una escena $( n )$ semilla y se buscan $( k-1 )$ escenas adicionales (siendo $( k )$ el máximo de escenas por día, por ejemplo 6.). La cantidad de dias de rodado estara dada por n/k (En este caso 30/6 = 5 ciclos)\n",
    "\n",
    "Para cada selección, se evalúan hasta escenas restantes ( n! ), y para cada una se calcula el numero de actores únicos ( a siendo a el número de actores ).\n",
    "\n",
    "Por lo tanto, la complejidad es aproximadamente:\n",
    "\n",
    "$$O(n/k × n! × a)$$\n",
    "\n",
    "Según el problema (y tenga sentido), diseña un juego de datos de entrada aleatorios"
   ]
  },
  {
   "cell_type": "markdown",
   "metadata": {
    "id": "3M6QjTsSkmYe"
   },
   "source": [
    "Según el problema (y tenga sentido), diseña un juego de datos de entrada aleatorios"
   ]
  },
  {
   "cell_type": "markdown",
   "metadata": {
    "id": "Jc3_OlyNkvjZ"
   },
   "source": [
    "Respuesta"
   ]
  },
  {
   "cell_type": "code",
   "execution_count": 12,
   "metadata": {
    "id": "sJ-N2etjkyWc"
   },
   "outputs": [],
   "source": [
    "def generate_random_scenes(num_scenes, num_actors):\n",
    "    # Assign a random probability for each actor\n",
    "    probs = np.random.uniform(0.1, 0.9, size=num_actors)\n",
    "\n",
    "    # Initialize the doblaje matrix with zeros\n",
    "    scenes = np.zeros((num_scenes, num_actors), dtype=int)\n",
    "\n",
    "    # For each scene, randomly assign actors based on their individual probabilities\n",
    "    for a in range(num_actors):\n",
    "        scenes[:, a] = (np.random.rand(num_scenes) < probs[a]).astype(int)\n",
    "    return scenes\n",
    "\n",
    "# Test\n",
    "scenes = generate_random_scenes(30, 10)"
   ]
  },
  {
   "cell_type": "markdown",
   "metadata": {
    "id": "zy5ZROmjlGo1"
   },
   "source": [
    "Aplica el algoritmo al juego de datos generado"
   ]
  },
  {
   "cell_type": "markdown",
   "metadata": {
    "id": "_Cmj-PVylMsa"
   },
   "source": [
    "Respuesta"
   ]
  },
  {
   "cell_type": "code",
   "execution_count": 13,
   "metadata": {
    "id": "Jkx8GeiYlUz1"
   },
   "outputs": [
    {
     "name": "stdout",
     "output_type": "stream",
     "text": [
      "Forcing always 6 scenes per day:\n",
      "Scenes of day 1:[0, 1, 2, 3]\n",
      "Total times I have to pay if these scenes are scheduled (greedy): 3\n"
     ]
    }
   ],
   "source": [
    "print('Forcing always 6 scenes per day:')\n",
    "\n",
    "scenes = generate_random_scenes(30, 10)\n",
    "days = scenes_organization_gh(sessions, False)\n",
    "total_actor_days = calc_cost(days,sessions)\n",
    "\n",
    "day = 1\n",
    "for day_scenes in days:\n",
    "    print(f'Scenes of day {day}:{day_scenes}')\n",
    "    day += 1\n",
    "\n",
    "print(\"Total times I have to pay if these scenes are scheduled (greedy):\", total_actor_days)"
   ]
  },
  {
   "cell_type": "markdown",
   "metadata": {
    "id": "eTFWUJQrtGcv"
   },
   "source": [
    "Enumera las referencias que has utilizado(si ha sido necesario) para llevar a cabo el trabajo"
   ]
  },
  {
   "cell_type": "markdown",
   "metadata": {
    "id": "YKQ_mRBttWsP"
   },
   "source": [
    "## Respuesta\n",
    "Google Developers. (2023). OR-Tools: Optimization tools for developers. Google. https://developers.google.com/optimization\n",
    "\n",
    "Russell, S., & Norvig, P. (2021). Inteligencia artificial: Un enfoque moderno (4.ª ed.). Pearson Educación.\n",
    "\n",
    "Michel, L. (2020). Constraint Programming: How to model problems. IBM Research. https://cpaior2020.dbai.tuwien.ac.at/tutorials/\n",
    "\n",
    "Vanderbei, R. J. (2020). Linear programming: Foundations and extensions (5th ed.). Springer.\n",
    "\n",
    "Ahuja, R. K., Magnanti, T. L., & Orlin, J. B. (2014). Network flows: Theory, algorithms, and applications. Prentice Hall.\n",
    "\n",
    "Chvátal, V. (1983). Linear Programming. W. H. Freeman.\n",
    "\n",
    "Bell numbers. (s.f.). En Wikipedia. Recuperado el 11 de julio de 2025, de https://es.wikipedia.org/wiki/N%C3%BAmero_de_Bell\n",
    "\n",
    "Python Software Foundation. (2024). NumPy: Fundamental package for scientific computing with Python. https://numpy.org\n",
    "\n",
    "Winstanley, G. (2021). Metaheuristics for scheduling problems. Springer.\n",
    "\n",
    "Dechter, R. (2003). Constraint Processing. Morgan Kaufmann."
   ]
  },
  {
   "cell_type": "markdown",
   "metadata": {
    "id": "kAkDPUyRtYyH"
   },
   "source": [
    "### Describe brevemente las lineas de como crees que es posible avanzar en el estudio del problema. Ten en cuenta incluso posibles variaciones del problema y/o variaciones al alza del tamaño"
   ]
  },
  {
   "cell_type": "markdown",
   "metadata": {
    "id": "IE0uZmo-tZu-"
   },
   "source": [
    "Respuesta"
   ]
  },
  {
   "cell_type": "markdown",
   "metadata": {},
   "source": [
    "El problema abordado en este trabajo, relacionado con la planificación eficiente de escenas para minimizar actor-días, abre múltiples líneas de investigación y desarrollo futuro. A medida que aumentan el número de escenas, actores y restricciones de rodaje, el problema escala rápidamente en complejidad, por lo que resulta fundamental explorar estrategias más robustas y adaptativas.\n",
    "\n",
    "Una posible línea de avance es la optimización híbrida, que combine heurísticas voraces (como la que propuse) con técnicas de búsqueda local o algoritmos metaheurísticos como recocido simulado (Simulated Annealing), algoritmos genéticos o búsqueda tabú. Estos métodos permitirían escapar de óptimos locales y mejorar soluciones en instancias grandes sin explorar todo el espacio de búsqueda.\n",
    "\n",
    "Otra línea interesante consiste en implementar una versión paralela o distribuida del algoritmo, permitiendo ejecutar múltiples soluciones en paralelo (por ejemplo, en un clúster o en la nube), y así acelerar significativamente el tiempo de obtención de buenos resultados para tamaños mayores.\n",
    "\n",
    "También se podría explorar la incorporación de restricciones más realistas, como:\n",
    "\n",
    "* horarios máximos de trabajo por actor,\n",
    "\n",
    "* costos diferenciados por actor,\n",
    "\n",
    "* prioridades de escenas,\n",
    "\n",
    "* disponibilidad parcial de recursos.\n",
    "\n",
    "Estas variaciones acercarían el modelo a escenarios reales de producción audiovisual, haciéndolo más aplicable y útil en la práctica.\n",
    "\n",
    "Para finalizar tendriamos que implementar un aplicación grafica para poder ver mejor las distintas soluciones que me muestra el algoritmo."
   ]
  },
  {
   "cell_type": "code",
   "execution_count": null,
   "metadata": {},
   "outputs": [],
   "source": []
  }
 ],
 "metadata": {
  "colab": {
   "provenance": []
  },
  "kernelspec": {
   "display_name": "Python 3 (ipykernel)",
   "language": "python",
   "name": "python3"
  },
  "language_info": {
   "codemirror_mode": {
    "name": "ipython",
    "version": 3
   },
   "file_extension": ".py",
   "mimetype": "text/x-python",
   "name": "python",
   "nbconvert_exporter": "python",
   "pygments_lexer": "ipython3",
   "version": "3.11.13"
  }
 },
 "nbformat": 4,
 "nbformat_minor": 4
}
