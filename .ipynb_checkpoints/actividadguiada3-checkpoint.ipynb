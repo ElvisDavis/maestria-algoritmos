{
 "cells": [
  {
   "cell_type": "markdown",
   "id": "74953ade-3a63-48c6-8dd2-f12c3f961255",
   "metadata": {},
   "source": [
    "# Algoritmos - Actividad Guiada 3\n",
    "\n",
    "**Nombre:** Elvis David Pachacama<br>\n",
    "**URL:** https://github.com/ElvisDavis/maestria-algoritmos/blob/main/actividadguiada3.ipynb"
   ]
  },
  {
   "cell_type": "code",
   "execution_count": null,
   "id": "f8f43865-d640-4364-bf64-f759bd3eaea4",
   "metadata": {},
   "outputs": [],
   "source": []
  }
 ],
 "metadata": {
  "kernelspec": {
   "display_name": "Python 3 (ipykernel)",
   "language": "python",
   "name": "python3"
  },
  "language_info": {
   "codemirror_mode": {
    "name": "ipython",
    "version": 3
   },
   "file_extension": ".py",
   "mimetype": "text/x-python",
   "name": "python",
   "nbconvert_exporter": "python",
   "pygments_lexer": "ipython3",
   "version": "3.11.13"
  }
 },
 "nbformat": 4,
 "nbformat_minor": 5
}
